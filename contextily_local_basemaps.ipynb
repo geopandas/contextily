{
 "cells": [
  {
   "cell_type": "code",
   "execution_count": null,
   "metadata": {},
   "outputs": [],
   "source": [
    "%matplotlib inline\n",
    "\n",
    "import contextily as ctx\n",
    "import geopandas as gpd\n",
    "import pandas as pd\n",
    "import matplotlib.pyplot as plt"
   ]
  },
  {
   "cell_type": "code",
   "execution_count": null,
   "metadata": {},
   "outputs": [],
   "source": [
    "provider = ctx.providers[\"PDOK\"]['opentopo_EPSG_28992']\n",
    "provider"
   ]
  },
  {
   "cell_type": "code",
   "execution_count": null,
   "metadata": {},
   "outputs": [],
   "source": [
    "w = 128_000.0\n",
    "s = 440_000.0\n",
    "e = 150_000.0\n",
    "n = 460_000.0\n",
    "a, extent = ctx.bounds2img_wmts(w, s, e, n, url=provider, zoom=\"auto\")\n",
    "fig, ax = plt.subplots(figsize=(10, 10))\n",
    "ax.imshow(a, interpolation=\"spline36\")"
   ]
  },
  {
   "cell_type": "code",
   "execution_count": null,
   "metadata": {},
   "outputs": [],
   "source": [
    "x = 155_000.0\n",
    "y = 463_000.0\n",
    "df = pd.DataFrame({\"Locatie\": [\"Onze Lieve Vrouwentoren\"], \"x\": [x], \"y\": [y]})\n",
    "gdf = gpd.GeoDataFrame(df, geometry=gpd.points_from_xy(df.x, df.y))\n",
    "ax = gdf.plot(figsize=(10, 10))\n",
    "a = ctx.add_basemap_wmts(ax, provider, interpolation=\"spline36\", zoom=\"auto\", reset_extent=False)"
   ]
  }
 ],
 "metadata": {
  "kernelspec": {
   "display_name": "Python 3.7.6 64-bit ('salty': conda)",
   "language": "python",
   "name": "python37664bitsaltycondaf755b71eb5284478984b9eadde8a8258"
  },
  "language_info": {
   "codemirror_mode": {
    "name": "ipython",
    "version": 3
   },
   "file_extension": ".py",
   "mimetype": "text/x-python",
   "name": "python",
   "nbconvert_exporter": "python",
   "pygments_lexer": "ipython3",
   "version": "3.7.6"
  }
 },
 "nbformat": 4,
 "nbformat_minor": 4
}
